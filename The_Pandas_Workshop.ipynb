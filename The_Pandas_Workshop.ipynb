{
  "nbformat": 4,
  "nbformat_minor": 0,
  "metadata": {
    "colab": {
      "provenance": [],
      "toc_visible": true,
      "authorship_tag": "ABX9TyMoYF/x5GVCg1V/unYgsML+",
      "include_colab_link": true
    },
    "kernelspec": {
      "name": "python3",
      "display_name": "Python 3"
    },
    "language_info": {
      "name": "python"
    }
  },
  "cells": [
    {
      "cell_type": "markdown",
      "metadata": {
        "id": "view-in-github",
        "colab_type": "text"
      },
      "source": [
        "<a href=\"https://colab.research.google.com/github/SahilKhurana369/Artificial_Intelligence/blob/main/The_Pandas_Workshop.ipynb\" target=\"_parent\"><img src=\"https://colab.research.google.com/assets/colab-badge.svg\" alt=\"Open In Colab\"/></a>"
      ]
    },
    {
      "cell_type": "code",
      "source": [
        "import pandas as pd"
      ],
      "metadata": {
        "id": "-d9ZAGu-m5TO"
      },
      "execution_count": null,
      "outputs": []
    },
    {
      "cell_type": "markdown",
      "source": [
        "# Chapter - 1 - Introduction to Pandas"
      ],
      "metadata": {
        "id": "e2yYhdeDmjwx"
      }
    },
    {
      "cell_type": "markdown",
      "source": [
        "## Components and applications of pandas\n",
        "An introduction to the pandas library would be incomplete without a glimpse into its architecture. The pandas library is comprised of the following components:\n",
        "\n",
        "pandas/core: This contains the implementations of the basic data structures of pandas, such as Series and DataFrames. Series and DataFrames are basic toolsets that are very handy for data manipulation and are used extensively by data scientists. They will be covered in Chapter 2, Data Structures.\n",
        "\n",
        "pandas/src: This consists of algorithms that provide the basic functionalities of pandas. These functionalities are part of the architecture of pandas, which you will not be using explicitly. This layer is written in C or Cython.\n",
        "\n",
        "pandas/io: This comprises toolsets for the input and output of files and data. These toolsets facilitate data input from sources such as CSV and text and allow you to write data to formats such as text and CSV. They will be covered in detail in Chapter 3, Data I/O.\n",
        "\n",
        "pandas/tools: This layer contains all the code and algorithms for pandas functions and methods, such as merge, join, and concat.\n",
        "\n",
        "pandas/sparse: This contains the functionalities for handling missing values within its data structures, such as DataFrames and Series.\n",
        "\n",
        "pandas/stats: This contains a set of tools for handling statistical functions such as regression and classification.\n",
        "\n",
        "pandas/util: This contains all the utilities for debugging the library.\n",
        "\n",
        "pandas/rpy: This is the interface for connecting to R."
      ],
      "metadata": {
        "id": "5F4n0WrAswlf"
      }
    },
    {
      "cell_type": "code",
      "source": [],
      "metadata": {
        "id": "_C1gFut8mzDW"
      },
      "execution_count": null,
      "outputs": []
    },
    {
      "cell_type": "markdown",
      "source": [
        "## The Series object\n",
        "\n",
        "one-dimensional data\n",
        "\n",
        "In pandas, one-dimensional data is represented as Series objects. Series objects are initialized using the pd.Series() constructor.\n"
      ],
      "metadata": {
        "id": "txG8daRPt2cE"
      }
    },
    {
      "cell_type": "code",
      "source": [
        "# Creating a Series - Example 1\n",
        "ser1 = pd.Series([10,20,30,40])\n",
        "ser1"
      ],
      "metadata": {
        "colab": {
          "base_uri": "https://localhost:8080/"
        },
        "id": "UTvfAYWruGDE",
        "outputId": "53c561ef-0b24-42cb-99b3-f3448380dde4"
      },
      "execution_count": null,
      "outputs": [
        {
          "output_type": "execute_result",
          "data": {
            "text/plain": [
              "0    10\n",
              "1    20\n",
              "2    30\n",
              "3    40\n",
              "dtype: int64"
            ]
          },
          "metadata": {},
          "execution_count": 7
        }
      ]
    },
    {
      "cell_type": "markdown",
      "source": [
        "a Series with multiple data types, there are lists with numeric and text data (lines 0, 1, and 2) along with a dictionary (line 3). From the output."
      ],
      "metadata": {
        "id": "4Kh7xIdXuvnH"
      }
    },
    {
      "cell_type": "code",
      "source": [
        "# Creating a Series - Example 2\n",
        "\n",
        "ser2 = pd.Series([[10, 20],\\\n",
        "                  [30, 40.5,'series'],\\\n",
        "                  [50, 55],\\\n",
        "                  {'Name':'Tess','Org':'Packt'}])"
      ],
      "metadata": {
        "id": "CqVbTLzsuih-"
      },
      "execution_count": null,
      "outputs": []
    },
    {
      "cell_type": "code",
      "source": [
        "ser2"
      ],
      "metadata": {
        "colab": {
          "base_uri": "https://localhost:8080/"
        },
        "id": "s2M1JOk5uu7I",
        "outputId": "b854d671-bd20-4ed4-b8b2-9c8315ae4a3c"
      },
      "execution_count": null,
      "outputs": [
        {
          "output_type": "execute_result",
          "data": {
            "text/plain": [
              "0                            [10, 20]\n",
              "1                  [30, 40.5, series]\n",
              "2                            [50, 55]\n",
              "3    {'Name': 'Tess', 'Org': 'Packt'}\n",
              "dtype: object"
            ]
          },
          "metadata": {},
          "execution_count": 11
        }
      ]
    },
    {
      "cell_type": "markdown",
      "source": [
        "## The DataFrame object"
      ],
      "metadata": {
        "id": "-FEzdQEgvWlQ"
      }
    },
    {
      "cell_type": "code",
      "source": [],
      "metadata": {
        "id": "glDYJFP2vY86"
      },
      "execution_count": null,
      "outputs": []
    }
  ]
}